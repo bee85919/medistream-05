{
 "cells": [
  {
   "cell_type": "markdown",
   "metadata": {},
   "source": [
    "### 1. code"
   ]
  },
  {
   "cell_type": "code",
   "execution_count": 2,
   "metadata": {
    "execution": {
     "iopub.execute_input": "2023-12-08T08:32:34.980159Z",
     "iopub.status.busy": "2023-12-08T08:32:34.979771Z",
     "iopub.status.idle": "2023-12-08T08:32:34.997841Z",
     "shell.execute_reply": "2023-12-08T08:32:34.996570Z",
     "shell.execute_reply.started": "2023-12-08T08:32:34.980124Z"
    }
   },
   "outputs": [],
   "source": [
    "import boto3\n",
    "import json\n",
    "    \n",
    "s3 = boto3.client('s3')\n",
    "\n",
    "def s3_rmv_json(path):\n",
    "    s3 = boto3.client('s3')\n",
    "    response = s3.list_objects_v2(Bucket=bucket, Prefix=path)\n",
    "    file_list = []\n",
    "    if 'Contents' in response:\n",
    "        for items in response['Contents']:\n",
    "            file_list.append(items['Key'])\n",
    "    for i in range(0, len(file_list)):        \n",
    "        s3.delete_object(Bucket=bucket, Key=file_list[i])\n",
    "    print(f\"deleted files: {path}\")\n",
    "        \n",
    "def s3_get_json():\n",
    "    data = s3.get_object(Bucket=bucket, Key=json_path)\n",
    "    json_list = json.loads(data['Body'].read())\n",
    "    return json_list\n",
    "\n",
    "def create_json_dict(json_list):\n",
    "    def h_get(key): return h_item.get(key, None)\n",
    "    json_dict = {'root': [], 'hospital': []}\n",
    "    for item in json_list:\n",
    "        for key, value in item.items():\n",
    "            if key == \"ROOT_QUERY\":\n",
    "                for k, v in value.items():\n",
    "                    if k == 'hospital':\n",
    "                        r_dict = {\n",
    "                            k : v\n",
    "                        }\n",
    "                json_dict['root'].append(r_dict)\n",
    "            elif key.startswith(\"HospitalBase:\"):\n",
    "                h_item = item[key]\n",
    "                h_dict = {\n",
    "                    'id' : h_get('id'),\n",
    "                    'name' : h_get('name'),\n",
    "                    'category' : h_get('category'),\n",
    "                    'category_code' : h_get('categoryCode'),\n",
    "                    'category_code_list' : h_get('categoryCodeList'),\n",
    "                    'category_count' : h_get('categoryCount'),\n",
    "                    'description' : h_get('description'),\n",
    "                    'road_address' : h_get('roadAddress'),\n",
    "                    'road' : h_get('road'),\n",
    "                    'rcode' : h_get('rcode'),\n",
    "                    'virtual_phone' : h_get('virtualPhone'),\n",
    "                    'phone' : h_get('phone'),\n",
    "                    'payment_info' : h_get('paymentInfo'),\n",
    "                    'conveniences' : h_get('conveniences'),\n",
    "                    'review_setting' : h_get('reviewSettings'),\n",
    "                    'keywords' : h_get('keywords'),\n",
    "                    'booking_business_id' : h_get('bookingBusinessId'),\n",
    "                    'booking_display_name' : h_get('bookingDisplayName'),\n",
    "                    'visitor_reviews_score' : h_get('visitorReviewsScore'),\n",
    "                    'visitor_reviews_total' : h_get('visitorReviewsTotal'),\n",
    "                    'visitor_reviews_text_review_total' : h_get('visitorReviewsTextReviewTotal'),\n",
    "                    'images' : h_get('images'),\n",
    "                    'homepages' : h_get('homepages'),\n",
    "                    'booking_url' : h_get('naverBookingUrl'),\n",
    "                    'talktalk_url' : h_get('talktalkUrl'),\n",
    "                    'coordinate' : h_get('coordinate'),\n",
    "                }\n",
    "                json_dict['hospital'].append(h_dict)\n",
    "    return json_dict \n",
    "\n",
    "def s3_get_json_dict():\n",
    "    json_list = s3_get_json()\n",
    "    json_dict = create_json_dict(json_list)\n",
    "    json_output = json.dumps(json_dict, ensure_ascii=False)\n",
    "    path = f\"{save_path}/naverplace_meta.json\"\n",
    "    s3.put_object(Bucket=bucket, Key=path, Body=json_output.encode('utf-8'))\n",
    "    print(f\"uploaded file: {path}\")"
   ]
  },
  {
   "cell_type": "markdown",
   "metadata": {},
   "source": [
    "### 2. run"
   ]
  },
  {
   "cell_type": "markdown",
   "metadata": {},
   "source": [
    "경로 설정"
   ]
  },
  {
   "cell_type": "code",
   "execution_count": null,
   "metadata": {},
   "outputs": [],
   "source": [
    "bucket = bucket\n",
    "json_path = json_path\n",
    "save_path = save_path\n",
    "# rmv_path = rmv_path"
   ]
  },
  {
   "cell_type": "markdown",
   "metadata": {},
   "source": [
    "함수 실행"
   ]
  },
  {
   "cell_type": "code",
   "execution_count": null,
   "metadata": {},
   "outputs": [],
   "source": [
    "# s3_rmv_json(rmv_path)\n",
    "# s3_get_json_dict()"
   ]
  }
 ],
 "metadata": {
  "kernelspec": {
   "display_name": "Python 3",
   "language": "python",
   "name": "python3"
  },
  "language_info": {
   "codemirror_mode": {
    "name": "ipython",
    "version": 3
   },
   "file_extension": ".py",
   "mimetype": "text/x-python",
   "name": "python",
   "nbconvert_exporter": "python",
   "pygments_lexer": "ipython3",
   "version": "3.9.18"
  }
 },
 "nbformat": 4,
 "nbformat_minor": 4
}
