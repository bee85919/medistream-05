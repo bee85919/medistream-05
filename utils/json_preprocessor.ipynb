{
 "cells": [
  {
   "cell_type": "markdown",
   "metadata": {},
   "source": [
    "### 1. code"
   ]
  },
  {
   "cell_type": "code",
   "execution_count": 2,
   "metadata": {
    "execution": {
     "iopub.execute_input": "2023-12-08T08:32:34.980159Z",
     "iopub.status.busy": "2023-12-08T08:32:34.979771Z",
     "iopub.status.idle": "2023-12-08T08:32:34.997841Z",
     "shell.execute_reply": "2023-12-08T08:32:34.996570Z",
     "shell.execute_reply.started": "2023-12-08T08:32:34.980124Z"
    }
   },
   "outputs": [],
   "source": [
    "### import\n",
    "import boto3\n",
    "import json\n",
    "\n",
    "### get client\n",
    "s3 = boto3.client('s3')\n",
    "\n",
    "### function for removing json files\n",
    "def s3_rmv_json(path):\n",
    "    '''path 경로의 json을 지운다.'''\n",
    "    s3 = boto3.client('s3')\n",
    "    response = s3.list_objects_v2(Bucket=bucket, Prefix=path)\n",
    "    file_list = []\n",
    "    if 'Contents' in response:\n",
    "        for items in response['Contents']:\n",
    "            file_list.append(items['Key'])\n",
    "    for i in range(0, len(file_list)):        \n",
    "        s3.delete_object(Bucket=bucket, Key=file_list[i])\n",
    "    print(f\"deleted files: {path}\")\n",
    "\n",
    "### function for getting json list        \n",
    "def s3_get_json():\n",
    "    data = s3.get_object(Bucket=bucket, Key=json_path)\n",
    "    json_list = json.loads(data['Body'].read())\n",
    "    return json_list\n",
    "\n",
    "### function for creating json dictionary\n",
    "def create_json_dict(json_list):\n",
    "    def h_get(key): \n",
    "        '''\n",
    "        코드를 줄이기 위한 h_get. \n",
    "        key값의 json 객체를 가져온다.\n",
    "        json 객체가 없다면 None.\n",
    "        '''\n",
    "        return h_item.get(key, None)\n",
    "    json_dict = {'root': [], 'hospital': []}     # json dictionary의 schema\n",
    "    for item in json_list:\n",
    "        for key, value in item.items():\n",
    "            # \"ROOT_QUERY.hospital.items() => key : value로 json_dict에 저장\"\n",
    "            if key == \"ROOT_QUERY\":\n",
    "                for k, v in value.items():\n",
    "                    if k == 'hospital':\n",
    "                        r_dict = {\n",
    "                            k : v\n",
    "                        }\n",
    "                json_dict['root'].append(r_dict)\n",
    "            # \"HospitalBase:\"로 시작하는 key의 items를 추출\n",
    "            elif key.startswith(\"HospitalBase:\"):\n",
    "                h_item = item[key]\n",
    "                h_dict = {\n",
    "                    'id' : h_get('id'),\n",
    "                    'name' : h_get('name'),\n",
    "                    'category' : h_get('category'),\n",
    "                    'category_code' : h_get('categoryCode'),\n",
    "                    'category_code_list' : h_get('categoryCodeList'),\n",
    "                    'category_count' : h_get('categoryCount'),\n",
    "                    'description' : h_get('description'),\n",
    "                    'road_address' : h_get('roadAddress'),\n",
    "                    'road' : h_get('road'),\n",
    "                    'rcode' : h_get('rcode'),\n",
    "                    'virtual_phone' : h_get('virtualPhone'),\n",
    "                    'phone' : h_get('phone'),\n",
    "                    'payment_info' : h_get('paymentInfo'),\n",
    "                    'conveniences' : h_get('conveniences'),\n",
    "                    'review_setting' : h_get('reviewSettings'),\n",
    "                    'keywords' : h_get('keywords'),\n",
    "                    'booking_business_id' : h_get('bookingBusinessId'),\n",
    "                    'booking_display_name' : h_get('bookingDisplayName'),\n",
    "                    'visitor_reviews_score' : h_get('visitorReviewsScore'),\n",
    "                    'visitor_reviews_total' : h_get('visitorReviewsTotal'),\n",
    "                    'visitor_reviews_text_review_total' : h_get('visitorReviewsTextReviewTotal'),\n",
    "                    'images' : h_get('images'),\n",
    "                    'homepages' : h_get('homepages'),\n",
    "                    'booking_url' : h_get('naverBookingUrl'),\n",
    "                    'talktalk_url' : h_get('talktalkUrl'),\n",
    "                    'coordinate' : h_get('coordinate'),\n",
    "                }\n",
    "                json_dict['hospital'].append(h_dict)\n",
    "    return json_dict \n",
    "\n",
    "### function for getting preprocessed json dictionary\n",
    "def s3_get_json_dict():\n",
    "    '''json 파일을 전처리 하고 딕셔너리로 만들어 저장한다.'''\n",
    "    json_list = s3_get_json()\n",
    "    json_dict = create_json_dict(json_list)\n",
    "    json_output = json.dumps(json_dict, ensure_ascii=False)\n",
    "    path = f\"{save_path}/naverplace_meta.json\"\n",
    "    s3.put_object(Bucket=bucket, Key=path, Body=json_output.encode('utf-8'))\n",
    "    print(f\"uploaded file: {path}\")"
   ]
  },
  {
   "cell_type": "markdown",
   "metadata": {},
   "source": [
    "### 2. run"
   ]
  },
  {
   "cell_type": "code",
   "execution_count": null,
   "metadata": {},
   "outputs": [],
   "source": [
    "### set paths\n",
    "bucket = bucket\n",
    "json_path = json_path\n",
    "save_path = save_path\n",
    "# rmv_path = rmv_path"
   ]
  },
  {
   "cell_type": "code",
   "execution_count": null,
   "metadata": {},
   "outputs": [],
   "source": [
    "# ### 함수 실행 (필요할 경우 주석 해제 하여 사용)\n",
    "# s3_rmv_json(rmv_path)\n",
    "# s3_get_json_dict()"
   ]
  }
 ],
 "metadata": {
  "kernelspec": {
   "display_name": "Python 3",
   "language": "python",
   "name": "python3"
  },
  "language_info": {
   "codemirror_mode": {
    "name": "ipython",
    "version": 3
   },
   "file_extension": ".py",
   "mimetype": "text/x-python",
   "name": "python",
   "nbconvert_exporter": "python",
   "pygments_lexer": "ipython3",
   "version": "3.9.18"
  }
 },
 "nbformat": 4,
 "nbformat_minor": 4
}
