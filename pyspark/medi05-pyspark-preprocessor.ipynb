{
 "cells": [
  {
   "cell_type": "markdown",
   "metadata": {},
   "source": [
    "### 1. prep"
   ]
  },
  {
   "cell_type": "code",
   "execution_count": null,
   "metadata": {
    "execution": {
     "iopub.execute_input": "2023-12-12T12:44:54.358050Z",
     "iopub.status.busy": "2023-12-12T12:44:54.357722Z",
     "iopub.status.idle": "2023-12-12T12:45:28.941012Z",
     "shell.execute_reply": "2023-12-12T12:45:28.940409Z",
     "shell.execute_reply.started": "2023-12-12T12:44:54.358014Z"
    },
    "tags": []
   },
   "outputs": [],
   "source": [
    "### import pyspark\n",
    "import time\n",
    "from pyspark.sql import SparkSession, SQLContext\n",
    "from pyspark.sql.types import ArrayType, StringType\n",
    "from pyspark.sql.functions import array, array_contains, col, concat_ws, explode, flatten, length, max, regexp_extract, regexp_replace, size, substring, when"
   ]
  },
  {
   "cell_type": "code",
   "execution_count": null,
   "metadata": {
    "execution": {
     "iopub.execute_input": "2023-12-12T12:45:28.942307Z",
     "iopub.status.busy": "2023-12-12T12:45:28.942070Z",
     "iopub.status.idle": "2023-12-12T12:45:28.989904Z",
     "shell.execute_reply": "2023-12-12T12:45:28.989310Z",
     "shell.execute_reply.started": "2023-12-12T12:45:28.942274Z"
    }
   },
   "outputs": [],
   "source": [
    "### create spark session\n",
    "spark = SparkSession.builder \\\n",
    "        .appName(\"medistream-05\") \\\n",
    "        .getOrCreate()"
   ]
  },
  {
   "cell_type": "code",
   "execution_count": null,
   "metadata": {
    "execution": {
     "iopub.execute_input": "2023-12-12T12:45:28.991256Z",
     "iopub.status.busy": "2023-12-12T12:45:28.991012Z",
     "iopub.status.idle": "2023-12-12T12:45:29.037151Z",
     "shell.execute_reply": "2023-12-12T12:45:29.036604Z",
     "shell.execute_reply.started": "2023-12-12T12:45:28.991225Z"
    }
   },
   "outputs": [],
   "source": [
    "### get start time\n",
    "st = time.time()"
   ]
  },
  {
   "cell_type": "code",
   "execution_count": null,
   "metadata": {
    "execution": {
     "iopub.execute_input": "2023-12-12T12:45:29.038486Z",
     "iopub.status.busy": "2023-12-12T12:45:29.038246Z"
    },
    "tags": []
   },
   "outputs": [],
   "source": [
    "### read json data\n",
    "path = path\n",
    "data = spark.read.json(path)"
   ]
  },
  {
   "cell_type": "markdown",
   "metadata": {},
   "source": [
    "### 2. preprocessing hospital dataframe"
   ]
  },
  {
   "cell_type": "code",
   "execution_count": null,
   "metadata": {},
   "outputs": [],
   "source": [
    "hospital_data = data.select(explode(\"hospital\").alias(\"h\"))\n",
    "hospital_df = hospital_data.select(\n",
    "    col(\"h.id\").alias(\"id\"),\n",
    "    col(\"h.name\").alias(\"name\"),\n",
    "    col(\"h.category\").alias(\"category\"),\n",
    "    col(\"h.category_code\").alias(\"category_code\"),\n",
    "    col(\"h.category_code_list\").alias(\"category_code_list\"),\n",
    "    col(\"h.category_count\").alias(\"category_count\"),\n",
    "    col(\"h.description\").alias(\"description\"),\n",
    "    col(\"h.road_address\").alias(\"road_address\"),\n",
    "    col(\"h.road\").alias(\"road\"),\n",
    "    col(\"h.rcode\").alias(\"rcode\"),\n",
    "    col(\"h.virtual_phone\").alias(\"virtual_phone\"),\n",
    "    col(\"h.phone\").alias(\"phone\"),\n",
    "    col(\"h.payment_info\").alias(\"payment_info\"),\n",
    "    col(\"h.conveniences\").alias(\"conveniences\"),\n",
    "    col(\"h.review_setting.keyword\").alias(\"review_keyword\"),\n",
    "    col(\"h.keywords\").alias(\"keywords\"),\n",
    "    col(\"h.booking_business_id\").alias(\"booking_business_id\"),\n",
    "    col(\"h.booking_display_name\").alias(\"booking_display_name\"),\n",
    "    col(\"h.visitor_reviews_score\").alias(\"visitor_reviews_score\"),\n",
    "    col(\"h.visitor_reviews_total\").alias(\"visitor_reviews_total\"),\n",
    "    col(\"h.visitor_reviews_text_review_total\").alias(\"visitor_reviews_text_review_total\"),\n",
    "    col(\"h.images\").alias(\"images\"),\n",
    "    col(\"h.homepages.etc\").alias(\"homepages_etc\"),\n",
    "    col(\"h.homepages.repr\").alias(\"homepages_repr\"),\n",
    "    col(\"h.homepages.repr.url\").alias(\"is_rep\"), # isRep?\n",
    "    col(\"h.booking_url\").alias(\"booking_url\"),\n",
    "    col(\"h.talktalk_url\").alias(\"talktalk_url\"),\n",
    "    col(\"h.coordinate.x\").alias(\"lon\"),\n",
    "    col(\"h.coordinate.y\").alias(\"lat\"),\n",
    ")\n",
    "hospital_df = hospital_df.withColumn(\n",
    "    \"description\",\n",
    "    regexp_replace(\"description\", \"[\\n\\r*,]\", \"\")\n",
    ").withColumn(\n",
    "    \"road\",\n",
    "    regexp_replace(\"road\", \"[\\n\\r*,]\", \"\")\n",
    ").withColumn(\n",
    "    \"review_keyword\",\n",
    "    regexp_replace(\"review_keyword\", \"[\\\\\\\"]\", \"\")\n",
    ")\n",
    "hospital_df = hospital_df.withColumn(\n",
    "    \"description_length\",\n",
    "    length(\"description\")\n",
    ").withColumn(\n",
    "    \"images_count\", \n",
    "    size(\"images\")\n",
    ").withColumn(\n",
    "    'photo_review_ratio',\n",
    "    (col('visitor_reviews_total')-col('visitor_reviews_text_review_total'))/col('visitor_reviews_total')\n",
    ").withColumn(\n",
    "    'homepages_url', \n",
    "    flatten(array(array('homepages_repr.url'), 'homepages_etc.url'))\n",
    ").withColumn(\n",
    "    'homepages_type', \n",
    "    flatten(array(array('homepages_repr.type'), 'homepages_etc.type'))\n",
    ").withColumn(\n",
    "    'homepages_order', \n",
    "    when(\n",
    "        col('homepages_repr.order').isNull(), 0\n",
    "    ).otherwise(\n",
    "        size(flatten(array(array('homepages_repr.order'), 'homepages_etc.order')))\n",
    "    )\n",
    ").withColumn(\n",
    "    'is_smart_phone',\n",
    "    col('phone').startswith('010')\n",
    ").withColumn(\n",
    "    'is_zero_pay',\n",
    "    array_contains(col('payment_info'), '제로페이')\n",
    ").withColumn(\n",
    "    'is_dead_url',\n",
    "    flatten(array(array('homepages_repr.isDeadUrl'), 'homepages_etc.isDeadUrl'))\n",
    ").withColumn(\n",
    "    'keywords_1',\n",
    "    col('keywords')[0]\n",
    ").withColumn(\n",
    "    'keywords_2',\n",
    "    col('keywords')[1]\n",
    ").withColumn(\n",
    "    'keywords_3',\n",
    "    col('keywords')[2]\n",
    ").withColumn(\n",
    "    'keywords_4',\n",
    "    col('keywords')[3]\n",
    ").withColumn(\n",
    "    'keywords_5',\n",
    "    col('keywords')[4]\n",
    ")\n",
    "hospital_df = hospital_df.drop(\n",
    "    \"images\", \n",
    "    \"keywords\", \n",
    "    \"homepages_repr\", \n",
    "    \"homepages_etc\"\n",
    ").withColumn(\n",
    "    \"description\",\n",
    "    col(\"description\").cast(StringType())\n",
    ").withColumn(\n",
    "    \"road\",\n",
    "    col(\"road\").cast(StringType())\n",
    ").withColumn(\n",
    "    \"road_address\",\n",
    "    col(\"road_address\").cast(StringType())   \n",
    ").withColumn(\n",
    "    \"is_smart_phone\", \n",
    "    col(\"is_smart_phone\").cast(StringType())\n",
    ").withColumn(\n",
    "    \"is_zero_pay\", \n",
    "    col(\"is_zero_pay\").cast(StringType())\n",
    ")\n",
    "arr_col_lst = [field.name for field in hospital_df.schema.fields if isinstance(field.dataType, ArrayType)]\n",
    "for arr_col in arr_col_lst:\n",
    "    hospital_df = hospital_df.withColumn(arr_col, concat_ws(\",\", arr_col))\n",
    "print('hospital dataframe is ready!')"
   ]
  },
  {
   "cell_type": "markdown",
   "metadata": {},
   "source": [
    "### 3. preprocessing root_query dataframe"
   ]
  },
  {
   "cell_type": "code",
   "execution_count": null,
   "metadata": {},
   "outputs": [],
   "source": [
    "root_data = data.select(explode(\"root\").alias(\"r\"))\n",
    "root_df = root_data.select(\n",
    "    col(\"r.hospital.base.__ref\").alias(\"root_id\"),\n",
    "    col(\"r.hospital.fsasReviews.total\").alias(\"fsas_reviews_count\"),\n",
    "    col(\"r.hospital.kinQna.answerCount\").alias(\"kin_qna_count\")\n",
    ")\n",
    "root_df = root_df.withColumn(\n",
    "    \"root_id\",\n",
    "    regexp_extract(\"root_id\", \"HospitalBase:([\\\\w]+)\", 1)\n",
    ")"
   ]
  },
  {
   "cell_type": "markdown",
   "metadata": {},
   "source": [
    "### 4. merge dataframes"
   ]
  },
  {
   "cell_type": "code",
   "execution_count": null,
   "metadata": {},
   "outputs": [],
   "source": [
    "df = hospital_df.join(root_df, hospital_df.id == root_df.root_id, \"left_outer\")\n",
    "df = df.drop(\"root_id\")"
   ]
  },
  {
   "cell_type": "markdown",
   "metadata": {},
   "source": [
    "### 5. save merged dataframe"
   ]
  },
  {
   "cell_type": "code",
   "execution_count": null,
   "metadata": {},
   "outputs": [],
   "source": [
    "save_path = save_path\n",
    "df.dropDuplicates()\n",
    "df.write.mode('overwrite').parquet(save_path)"
   ]
  },
  {
   "cell_type": "markdown",
   "metadata": {},
   "source": [
    "### 6. check task time"
   ]
  },
  {
   "cell_type": "code",
   "execution_count": null,
   "metadata": {},
   "outputs": [],
   "source": [
    "ft = time.time()\n",
    "print(f\"pyspark task time: {ft - st}\")"
   ]
  },
  {
   "cell_type": "code",
   "execution_count": null,
   "metadata": {},
   "outputs": [],
   "source": [
    "columns = df.columns\n",
    "for column in columns:\n",
    "    max_length = df.select(max(length(col(column)))).collect()[0][0]\n",
    "    print(f\"Column: {column}, Max Length: {max_length}\")"
   ]
  },
  {
   "cell_type": "markdown",
   "metadata": {},
   "source": [
    "### 7. upload to redshift"
   ]
  },
  {
   "cell_type": "code",
   "execution_count": null,
   "metadata": {
    "tags": []
   },
   "outputs": [],
   "source": [
    "jdbc_url = jdbc_url\n",
    "temp_dir = temp_dir\n",
    "db_table = db_table"
   ]
  },
  {
   "cell_type": "code",
   "execution_count": null,
   "metadata": {
    "tags": []
   },
   "outputs": [],
   "source": [
    "df.write \\\n",
    "  .format(\"io.github.spark_redshift_community.spark.redshift\") \\\n",
    "  .option(\"driver\", \"com.amazon.redshift.jdbc42.Driver\") \\\n",
    "  .option(\"forward_spark_s3_credentials\", True) \\\n",
    "  .option(\"url\", jdbc_url) \\\n",
    "  .option(\"dbtable\", db_table) \\\n",
    "  .option(\"tempdir\", temp_dir) \\\n",
    "  .mode(\"overwrite\") \\\n",
    "  .save()"
   ]
  },
  {
   "cell_type": "code",
   "execution_count": null,
   "metadata": {
    "tags": []
   },
   "outputs": [],
   "source": [
    "spark.stop()"
   ]
  }
 ],
 "metadata": {
  "kernelspec": {
   "display_name": "PySpark",
   "language": "python",
   "name": "pysparkkernel"
  },
  "language_info": {
   "codemirror_mode": {
    "name": "python",
    "version": 3
   },
   "file_extension": ".py",
   "mimetype": "text/x-python",
   "name": "pyspark",
   "pygments_lexer": "python3"
  }
 },
 "nbformat": 4,
 "nbformat_minor": 4
}
