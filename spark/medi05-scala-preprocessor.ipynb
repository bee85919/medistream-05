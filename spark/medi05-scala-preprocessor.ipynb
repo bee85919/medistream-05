{
 "cells": [
  {
   "cell_type": "markdown",
   "id": "fac9b850",
   "metadata": {},
   "source": [
    "### 1. prep"
   ]
  },
  {
   "cell_type": "code",
   "execution_count": null,
   "id": "ec7ee930-eb97-472a-9a14-2e53727034a3",
   "metadata": {
    "execution": {
     "iopub.execute_input": "2023-12-14T06:24:49.322199Z",
     "iopub.status.busy": "2023-12-14T06:24:49.322031Z",
     "iopub.status.idle": "2023-12-14T06:24:49.340125Z",
     "shell.execute_reply": "2023-12-14T06:24:49.339197Z",
     "shell.execute_reply.started": "2023-12-14T06:24:49.322178Z"
    }
   },
   "outputs": [],
   "source": [
    "// import spark\n",
    "import org.apache.spark.sql.SparkSession\n",
    "import org.apache.spark.sql.functions._\n",
    "import org.apache.spark.sql.types.ArrayType\n",
    "import org.apache.spark.sql.SaveMode"
   ]
  },
  {
   "cell_type": "code",
   "execution_count": null,
   "id": "b1fa08b6",
   "metadata": {
    "vscode": {
     "languageId": "plaintext"
    }
   },
   "outputs": [],
   "source": [
    "// create spark session\n",
    "val spark = SparkSession.builder().appName(\"medistream-05\").getOrCreate()"
   ]
  },
  {
   "cell_type": "code",
   "execution_count": null,
   "id": "282dc88a",
   "metadata": {
    "vscode": {
     "languageId": "plaintext"
    }
   },
   "outputs": [],
   "source": [
    "// get start time\n",
    "val st = System.currentTimeMillis()"
   ]
  },
  {
   "cell_type": "code",
   "execution_count": null,
   "id": "6ed74772",
   "metadata": {
    "vscode": {
     "languageId": "plaintext"
    }
   },
   "outputs": [],
   "source": [
    "// set paths\n",
    "val savePath = savePath\n",
    "val jsonPath = jsonPath"
   ]
  },
  {
   "cell_type": "code",
   "execution_count": null,
   "id": "4a3a7052",
   "metadata": {
    "vscode": {
     "languageId": "plaintext"
    }
   },
   "outputs": [],
   "source": [
    "// read data\n",
    "val data = spark.read.json(jsonPath)"
   ]
  },
  {
   "cell_type": "markdown",
   "id": "f7326e2b",
   "metadata": {},
   "source": [
    "### 2. hospital key의 json object 전처리"
   ]
  },
  {
   "cell_type": "code",
   "execution_count": null,
   "id": "6a12766b-fcb2-433b-acce-5dd525163a4f",
   "metadata": {
    "execution": {
     "iopub.execute_input": "2023-12-14T06:24:49.404403Z",
     "iopub.status.busy": "2023-12-14T06:24:49.404208Z",
     "iopub.status.idle": "2023-12-14T06:24:49.420134Z",
     "shell.execute_reply": "2023-12-14T06:24:49.419447Z",
     "shell.execute_reply.started": "2023-12-14T06:24:49.404382Z"
    },
    "tags": []
   },
   "outputs": [],
   "source": [
    "// hospital key의 json object를 hospital_data의 변수에 할당했다. alias(\"h\") 옵션을 주어 이름을 \"h\"로 변경했다.\n",
    "val hospitalData = data.select(explode(col(\"hospital\")).alias(\"h\"))\n",
    "\n",
    "// hospital_data에서 필요한 item을 가져와서 hospital_df의 변수에 할당했다.\n",
    "val hospitalDataSelected = hospitalData.select(\n",
    "    col(\"h.id\").alias(\"id\"),\n",
    "    col(\"h.name\").alias(\"name\"),\n",
    "    col(\"h.category\").alias(\"category\"),\n",
    "    col(\"h.category_code\").alias(\"category_code\"),\n",
    "    col(\"h.category_code_list\").alias(\"category_code_list\"),\n",
    "    col(\"h.category_count\").alias(\"category_count\"),\n",
    "    col(\"h.description\").alias(\"description\"),\n",
    "    col(\"h.road_address\").alias(\"road_address\"),\n",
    "    col(\"h.road\").alias(\"road\"),\n",
    "    col(\"h.rcode\").alias(\"rcode\"),\n",
    "    col(\"h.virtual_phone\").alias(\"virtual_phone\"),\n",
    "    col(\"h.phone\").alias(\"phone\"),\n",
    "    col(\"h.payment_info\").alias(\"payment_info\"),\n",
    "    col(\"h.conveniences\").alias(\"conveniences\"),\n",
    "    col(\"h.review_setting.keyword\").alias(\"review_keyword\"),\n",
    "    col(\"h.keywords\").alias(\"keywords\"),\n",
    "    col(\"h.booking_business_id\").alias(\"booking_business_id\"),\n",
    "    col(\"h.booking_display_name\").alias(\"booking_display_name\"),\n",
    "    col(\"h.visitor_reviews_score\").alias(\"visitor_reviews_score\"),\n",
    "    col(\"h.visitor_reviews_total\").alias(\"visitor_reviews_total\"),\n",
    "    col(\"h.visitor_reviews_text_review_total\").alias(\"visitor_reviews_text_review_total\"),\n",
    "    col(\"h.images\").alias(\"images\"),\n",
    "    col(\"h.homepages.etc\").alias(\"homepages_etc\"),\n",
    "    col(\"h.homepages.repr\").alias(\"homepages_repr\"),\n",
    "    col(\"h.homepages.repr.url\").alias(\"is_rep\"), // isRep?\n",
    "    col(\"h.booking_url\").alias(\"booking_url\"),\n",
    "    col(\"h.talktalk_url\").alias(\"talktalk_url\"),\n",
    "    col(\"h.coordinate.x\").alias(\"lon\"),\n",
    "    col(\"h.coordinate.y\").alias(\"lat\")\n",
    "    // 아래부터 hospitalDataSelected의 전처리 과정을 진행한다.\n",
    "    // 아래부터 문자열 변경\n",
    ").withColumn(\n",
    "    \"description\", \n",
    "    regexp_replace(col(\"description\"), \"[\\n\\r*,]\", \"\")\n",
    ").withColumn(\n",
    "    \"road\", \n",
    "    regexp_replace(col(\"road\"), \"[\\n\\r*,]\", \"\")\n",
    ").withColumn(\n",
    "    \"review_keyword\", \n",
    "    regexp_replace(col(\"review_keyword\"), \"[\\\\\\\"]\", \"\")\n",
    "    // 아래부터 기타 전처리\n",
    ").withColumn(\n",
    "    // get description's length\n",
    "    \"description_length\", length(col(\"description\"))\n",
    ").withColumn(\n",
    "    // count images\n",
    "    \"images_count\", size(col(\"images\"))\n",
    ").withColumn(\n",
    "    // get photo_review_ratio\n",
    "    \"photo_review_ratio\", (col(\"visitor_reviews_total\") - col(\"visitor_reviews_text_review_total\")) / col(\"visitor_reviews_total\")\n",
    ").withColumn(\n",
    "    // get homepages' urls\n",
    "    \"homepages_url\", \n",
    "    flatten(array(\n",
    "        array(col(\"homepages_repr.url\")), \n",
    "        col(\"homepages_etc.url\")\n",
    "    ))\n",
    ").withColumn(\n",
    "    // get homepages' types\n",
    "    \"homepages_type\", \n",
    "    flatten(array(\n",
    "        array(col(\"homepages_repr.type\")), \n",
    "        col(\"homepages_etc.type\")\n",
    "    ))\n",
    ").withColumn(\n",
    "    // get homepages' order\n",
    "    \"homepages_order\", \n",
    "    when(col(\"homepages_repr.order\").isNull, array(lit(0)))\n",
    "    .otherwise(\n",
    "        flatten(array(\n",
    "            array(col(\"homepages_repr.order\")), \n",
    "            col(\"homepages_etc.order\")\n",
    "        ))\n",
    "    )\n",
    ").withColumn(\n",
    "    // get boolean of smart phone\n",
    "    \"is_smart_phone\", col(\"phone\").startsWith(\"010\")\n",
    ").withColumn(\n",
    "    // get boolean of zero pay\n",
    "    \"is_zero_pay\", array_contains(col(\"payment_info\"), \"제로페이\")\n",
    ").withColumn(\n",
    "    // get boolean of dead url\n",
    "    \"is_dead_url\", \n",
    "    flatten(array(\n",
    "        array(col(\"homepages_repr.isDeadUrl\")), \n",
    "        col(\"homepages_etc.isDeadUrl\")\n",
    "    ))\n",
    ").withColumn(\n",
    "    // get 1st keyword\n",
    "    \"keywords_1\", col(\"keywords\")(0)\n",
    ").withColumn(\n",
    "    // get 2nd keyword\n",
    "    \"keywords_2\", col(\"keywords\")(1)\n",
    ").withColumn(\n",
    "    // get 3rd keyword\n",
    "    \"keywords_3\", col(\"keywords\")(2)\n",
    ").withColumn(\n",
    "    // get 4th keyword\n",
    "    \"keywords_4\", col(\"keywords\")(3)\n",
    ").withColumn(\n",
    "    // get 5th keyword\n",
    "    \"keywords_5\", col(\"keywords\")(4)\n",
    ").drop(\n",
    "    // drop unnecessary columns\n",
    "    \"images\", \n",
    "    \"keywords\", \n",
    "    \"homepages_repr\", \n",
    "    \"homepages_etc\"\n",
    ")\n",
    "\n",
    "\n",
    "// 배열 삽입을 위한 전처리 과정\n",
    "\n",
    "// get array type columns\n",
    "val arrColList = hospitalDataSelected.schema.fields.filter(_.dataType.isInstanceOf[ArrayType]).map(_.name)\n",
    "\n",
    "// get *var* hospitalDf\n",
    "var hospitalDf = hospitalDataSelected\n",
    "\n",
    "// concat_ws to array type columns\n",
    "arrColList.foreach { arrCol =>\n",
    "  hospitalDf = hospitalDf.withColumn(arrCol, concat_ws(\",\", col(arrCol)))\n",
    "}"
   ]
  },
  {
   "cell_type": "markdown",
   "id": "b0f968a0",
   "metadata": {},
   "source": [
    "### 3. root key의 json object 전처리"
   ]
  },
  {
   "cell_type": "code",
   "execution_count": null,
   "id": "1d3af8d2-fb57-44d4-bcdd-a6b0ed30f9f9",
   "metadata": {
    "execution": {
     "iopub.execute_input": "2023-12-14T06:24:49.421554Z",
     "iopub.status.busy": "2023-12-14T06:24:49.421316Z",
     "iopub.status.idle": "2023-12-14T06:24:49.441991Z",
     "shell.execute_reply": "2023-12-14T06:24:49.440806Z",
     "shell.execute_reply.started": "2023-12-14T06:24:49.421523Z"
    }
   },
   "outputs": [],
   "source": [
    "// root key의 json object를 불러온다. root key의 alias는 r, 변수명은 root_data이다.\n",
    "\n",
    "// root key의 json object에서 필요한 item을 가져와서 root_df에 할당했다.\n",
    "val rootData = data.select(explode(col(\"root\")).alias(\"r\"))\n",
    "\n",
    "// root_df의 문자열 전처리를 진행했다.\n",
    "val rootDf = rootData.select(\n",
    "    regexp_extract(col(\"r.hospital.base.__ref\"), \"HospitalBase:([\\\\w]+)\", 1).alias(\"root_id\"),\n",
    "    col(\"r.hospital.fsasReviews.total\").alias(\"fsas_reviews_count\"),\n",
    "    col(\"r.hospital.kinQna.answerCount\").alias(\"kin_qna_count\")\n",
    ")"
   ]
  },
  {
   "cell_type": "markdown",
   "id": "b7a560b3",
   "metadata": {},
   "source": [
    "### 4. join dataframes"
   ]
  },
  {
   "cell_type": "code",
   "execution_count": null,
   "id": "258ee974-5bc4-4b4d-af8b-188ab7d9b038",
   "metadata": {
    "execution": {
     "iopub.execute_input": "2023-12-14T06:24:49.443224Z",
     "iopub.status.busy": "2023-12-14T06:24:49.443042Z",
     "iopub.status.idle": "2023-12-14T06:24:49.459816Z",
     "shell.execute_reply": "2023-12-14T06:24:49.459069Z",
     "shell.execute_reply.started": "2023-12-14T06:24:49.443203Z"
    }
   },
   "outputs": [],
   "source": [
    "// hospital_df와 root_df를 left outer join해서 df로 만들었다. \n",
    "// 올바른 값이 가져오기 위해 id를 비교했다. \n",
    "// 불필요해진 root_id 값은 drop한다.\n",
    "val df = hospitalDf.join(rootDf, hospitalDf(\"id\") === rootDf(\"root_id\"), \"left_outer\").drop(\"root_id\")"
   ]
  },
  {
   "cell_type": "markdown",
   "id": "e4d9f973",
   "metadata": {},
   "source": [
    "### 5. save dataframe"
   ]
  },
  {
   "cell_type": "code",
   "execution_count": null,
   "id": "bf450644-46b2-4ec1-8b2e-78830fb9e20b",
   "metadata": {
    "execution": {
     "iopub.execute_input": "2023-12-14T06:24:49.461253Z",
     "iopub.status.busy": "2023-12-14T06:24:49.461016Z",
     "iopub.status.idle": "2023-12-14T06:24:49.477720Z",
     "shell.execute_reply": "2023-12-14T06:24:49.476991Z",
     "shell.execute_reply.started": "2023-12-14T06:24:49.461220Z"
    },
    "tags": []
   },
   "outputs": [],
   "source": [
    "// save df\n",
    "df.dropDuplicates().write.mode(\"overwrite\").parquet(savePath)"
   ]
  },
  {
   "cell_type": "markdown",
   "id": "db5f7711",
   "metadata": {},
   "source": [
    "### 6. get task time"
   ]
  },
  {
   "cell_type": "code",
   "execution_count": null,
   "id": "bd116b15-0bfe-4f38-a968-bd8b21c6a081",
   "metadata": {
    "execution": {
     "iopub.execute_input": "2023-12-14T06:24:49.479211Z",
     "iopub.status.busy": "2023-12-14T06:24:49.478954Z",
     "iopub.status.idle": "2023-12-14T06:24:49.495809Z",
     "shell.execute_reply": "2023-12-14T06:24:49.495174Z",
     "shell.execute_reply.started": "2023-12-14T06:24:49.479177Z"
    },
    "tags": []
   },
   "outputs": [],
   "source": [
    "// calculate task time\n",
    "val ft = System.currentTimeMillis()\n",
    "println(s\"Spark task time: ${(ft - st)/1000} s\")"
   ]
  },
  {
   "cell_type": "markdown",
   "id": "a5459f4f",
   "metadata": {},
   "source": [
    "### 7. upload to redshift"
   ]
  },
  {
   "cell_type": "code",
   "execution_count": null,
   "id": "9aac79ee",
   "metadata": {
    "vscode": {
     "languageId": "plaintext"
    }
   },
   "outputs": [],
   "source": [
    "// set envs\n",
    "val jdbcUrl = \"<jdbc_url>\"\n",
    "val tempDir = \"<temp_dir>\"\n",
    "val dbTable = \"<db_table>\"\n",
    "\n",
    "// save\n",
    "df.write\n",
    "  .format(\"io.github.spark_redshift_community.spark.redshift\")\n",
    "  .option(\"driver\", \"com.amazon.redshift.jdbc42.Driver\")\n",
    "  .option(\"forward_spark_s3_credentials\", \"true\")\n",
    "  .option(\"url\", jdbcUrl)\n",
    "  .option(\"dbtable\", dbTable)\n",
    "  .option(\"tempdir\", tempDir)\n",
    "  .mode(SaveMode.Overwrite)\n",
    "  .save()"
   ]
  },
  {
   "cell_type": "code",
   "execution_count": null,
   "id": "8d5c34d1",
   "metadata": {
    "vscode": {
     "languageId": "plaintext"
    }
   },
   "outputs": [],
   "source": [
    "// stop spark session\n",
    "spark.stop()"
   ]
  }
 ],
 "metadata": {
  "kernelspec": {
   "display_name": "Spark",
   "language": "scala",
   "name": "sparkkernel"
  },
  "language_info": {
   "codemirror_mode": "text/x-scala",
   "file_extension": ".sc",
   "mimetype": "text/x-scala",
   "name": "scala",
   "pygments_lexer": "scala"
  }
 },
 "nbformat": 4,
 "nbformat_minor": 5
}
